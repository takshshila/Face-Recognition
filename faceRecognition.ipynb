{
 "cells": [
  {
   "cell_type": "code",
   "execution_count": 3,
   "metadata": {},
   "outputs": [
    {
     "name": "stdout",
     "output_type": "stream",
     "text": [
      "I found 6 face(s) in this photograph.\n",
      "A face is located at pixel location Top: 163, Left: 497, Bottom: 271, Right: 605\n",
      "A face is located at pixel location Top: 186, Left: 275, Bottom: 275, Right: 364\n",
      "A face is located at pixel location Top: 211, Left: 67, Bottom: 319, Right: 175\n",
      "A face is located at pixel location Top: 295, Left: 653, Bottom: 402, Right: 760\n",
      "A face is located at pixel location Top: 271, Left: 366, Bottom: 378, Right: 474\n",
      "A face is located at pixel location Top: 152, Left: 724, Bottom: 259, Right: 832\n"
     ]
    }
   ],
   "source": [
    "import PIL.Image\n",
    "import PIL.ImageDraw\n",
    "import face_recognition\n",
    "\n",
    "# Load the jpg file into a numpy array\n",
    "image = face_recognition.load_image_file(\"./data/people.jpg\")\n",
    "\n",
    "# Find all the faces in the image\n",
    "face_locations = face_recognition.face_locations(image)\n",
    "\n",
    "number_of_faces = len(face_locations)\n",
    "print(\"I found {} face(s) in this photograph.\".format(number_of_faces))\n",
    "\n",
    "# Load the image into a Python Image Library object so that we can draw on top of it and display it\n",
    "pil_image = PIL.Image.fromarray(image)\n",
    "\n",
    "for face_location in face_locations:\n",
    "\n",
    "    # Print the location of each face in this image. Each face is a list of co-ordinates in (top, right, bottom, left) order.\n",
    "    top, right, bottom, left = face_location\n",
    "    print(\"A face is located at pixel location Top: {}, Left: {}, Bottom: {}, Right: {}\".format(top, left, bottom, right))\n",
    "\n",
    "    # Let's draw a box around the face\n",
    "    draw = PIL.ImageDraw.Draw(pil_image)\n",
    "    draw.rectangle([left, top, right, bottom], outline=\"red\")\n",
    "\n",
    "# Display the image on screen\n",
    "pil_image.show()"
   ]
  },
  {
   "cell_type": "markdown",
   "metadata": {},
   "source": [
    "## Face Landmarks"
   ]
  },
  {
   "cell_type": "code",
   "execution_count": 4,
   "metadata": {},
   "outputs": [
    {
     "name": "stdout",
     "output_type": "stream",
     "text": [
      "I found 6 face(s) in this photograph.\n",
      "The chin in this face has the following points: [(497, 193), (498, 206), (499, 219), (500, 232), (504, 244), (512, 255), (521, 264), (532, 271), (544, 274), (557, 272), (569, 266), (579, 258), (588, 247), (593, 234), (596, 221), (597, 208), (598, 194)]\n",
      "The left_eyebrow in this face has the following points: [(508, 186), (514, 182), (520, 179), (528, 179), (536, 181)]\n",
      "The right_eyebrow in this face has the following points: [(558, 180), (566, 179), (574, 179), (582, 180), (588, 186)]\n",
      "The nose_bridge in this face has the following points: [(547, 191), (546, 200), (546, 208), (545, 217)]\n",
      "The nose_tip in this face has the following points: [(536, 221), (541, 223), (546, 225), (551, 223), (556, 221)]\n",
      "The left_eye in this face has the following points: [(517, 193), (522, 190), (528, 190), (533, 193), (527, 194), (522, 194)]\n",
      "The right_eye in this face has the following points: [(562, 193), (567, 190), (573, 190), (578, 193), (573, 194), (567, 194)]\n",
      "The top_lip in this face has the following points: [(526, 236), (533, 234), (540, 233), (546, 235), (551, 234), (558, 235), (565, 237), (563, 237), (551, 236), (545, 236), (540, 235), (528, 236)]\n",
      "The bottom_lip in this face has the following points: [(565, 237), (558, 243), (550, 246), (545, 246), (539, 245), (532, 242), (526, 236), (528, 236), (539, 240), (545, 241), (551, 241), (563, 237)]\n",
      "The chin in this face has the following points: [(275, 203), (276, 214), (277, 225), (278, 237), (282, 247), (288, 257), (296, 265), (304, 272), (315, 275), (326, 274), (335, 268), (342, 260), (347, 250), (351, 241), (354, 230), (355, 219), (356, 208)]\n",
      "The left_eyebrow in this face has the following points: [(284, 196), (290, 192), (297, 193), (303, 195), (310, 199)]\n",
      "The right_eyebrow in this face has the following points: [(327, 199), (334, 196), (341, 194), (348, 195), (352, 200)]\n",
      "The nose_bridge in this face has the following points: [(319, 207), (318, 215), (318, 223), (318, 230)]\n",
      "The nose_tip in this face has the following points: [(307, 232), (312, 234), (318, 236), (323, 235), (328, 234)]\n",
      "The left_eye in this face has the following points: [(291, 206), (296, 203), (302, 204), (306, 209), (301, 209), (295, 209)]\n",
      "The right_eye in this face has the following points: [(330, 210), (335, 207), (341, 206), (345, 209), (341, 211), (335, 211)]\n",
      "The top_lip in this face has the following points: [(296, 242), (304, 240), (311, 240), (317, 242), (323, 241), (330, 242), (336, 245), (334, 245), (322, 245), (317, 245), (311, 244), (298, 243)]\n",
      "The bottom_lip in this face has the following points: [(336, 245), (330, 255), (322, 259), (316, 259), (310, 258), (302, 253), (296, 242), (298, 243), (311, 252), (317, 253), (322, 252), (334, 245)]\n",
      "The chin in this face has the following points: [(65, 230), (65, 244), (65, 258), (65, 272), (68, 286), (74, 298), (83, 309), (94, 318), (107, 323), (122, 323), (136, 318), (149, 310), (159, 299), (166, 286), (170, 271), (173, 257), (175, 242)]\n",
      "The left_eyebrow in this face has the following points: [(76, 223), (84, 218), (94, 218), (104, 219), (113, 224)]\n",
      "The right_eyebrow in this face has the following points: [(129, 226), (139, 224), (149, 224), (159, 227), (166, 234)]\n",
      "The nose_bridge in this face has the following points: [(120, 235), (119, 245), (117, 254), (116, 265)]\n",
      "The nose_tip in this face has the following points: [(103, 268), (109, 270), (115, 273), (122, 272), (129, 271)]\n",
      "The left_eye in this face has the following points: [(88, 231), (94, 229), (100, 230), (105, 235), (99, 235), (93, 233)]\n",
      "The right_eye in this face has the following points: [(135, 239), (141, 235), (147, 236), (153, 240), (147, 240), (140, 240)]\n",
      "The top_lip in this face has the following points: [(89, 278), (98, 279), (107, 281), (114, 283), (122, 283), (131, 284), (140, 285), (137, 286), (121, 285), (114, 285), (106, 283), (92, 280)]\n",
      "The bottom_lip in this face has the following points: [(140, 285), (130, 297), (119, 301), (112, 301), (104, 299), (95, 292), (89, 278), (92, 280), (105, 291), (113, 294), (120, 294), (137, 286)]\n",
      "The chin in this face has the following points: [(655, 327), (654, 341), (654, 355), (657, 369), (664, 381), (674, 393), (684, 403), (696, 411), (710, 414), (723, 411), (735, 403), (746, 393), (754, 381), (760, 367), (763, 353), (764, 338), (763, 325)]\n",
      "The left_eyebrow in this face has the following points: [(665, 311), (672, 305), (681, 304), (690, 307), (697, 311)]\n",
      "The right_eyebrow in this face has the following points: [(718, 310), (727, 306), (736, 303), (746, 305), (753, 311)]\n",
      "The nose_bridge in this face has the following points: [(708, 321), (709, 331), (709, 342), (709, 352)]\n",
      "The nose_tip in this face has the following points: [(695, 355), (702, 357), (709, 360), (716, 358), (722, 355)]\n",
      "The left_eye in this face has the following points: [(673, 320), (680, 318), (687, 319), (693, 324), (686, 323), (680, 322)]\n",
      "The right_eye in this face has the following points: [(723, 323), (729, 318), (736, 317), (742, 319), (737, 321), (730, 322)]\n",
      "The top_lip in this face has the following points: [(680, 367), (689, 364), (699, 364), (708, 366), (716, 364), (727, 364), (737, 366), (734, 367), (716, 368), (708, 369), (699, 368), (682, 367)]\n",
      "The bottom_lip in this face has the following points: [(737, 366), (728, 379), (717, 385), (708, 386), (699, 385), (689, 379), (680, 367), (682, 367), (699, 379), (708, 379), (717, 378), (734, 367)]\n",
      "The chin in this face has the following points: [(362, 296), (362, 310), (364, 324), (366, 336), (371, 349), (379, 361), (389, 371), (400, 379), (412, 382), (424, 380), (435, 371), (444, 361), (452, 349), (456, 337), (458, 324), (460, 312), (461, 300)]\n",
      "The left_eyebrow in this face has the following points: [(376, 292), (383, 288), (392, 286), (401, 287), (409, 292)]\n",
      "The right_eyebrow in this face has the following points: [(424, 294), (432, 292), (440, 291), (448, 293), (454, 297)]\n",
      "The nose_bridge in this face has the following points: [(417, 299), (417, 308), (417, 318), (417, 328)]\n",
      "The nose_tip in this face has the following points: [(406, 330), (411, 333), (417, 335), (422, 333), (426, 331)]\n",
      "The left_eye in this face has the following points: [(388, 298), (393, 295), (400, 294), (405, 299), (399, 299), (393, 299)]\n",
      "The right_eye in this face has the following points: [(426, 300), (432, 296), (438, 296), (444, 299), (438, 301), (432, 300)]\n",
      "The top_lip in this face has the following points: [(388, 339), (398, 339), (407, 340), (414, 342), (420, 340), (428, 340), (437, 341), (433, 342), (421, 343), (414, 344), (407, 343), (391, 340)]\n",
      "The bottom_lip in this face has the following points: [(437, 341), (428, 352), (420, 357), (414, 357), (406, 356), (396, 351), (388, 339), (391, 340), (406, 351), (414, 352), (420, 351), (433, 342)]\n",
      "The chin in this face has the following points: [(744, 188), (742, 199), (741, 210), (741, 222), (745, 234), (751, 244), (759, 254), (766, 263), (778, 266), (791, 265), (802, 259), (814, 251), (823, 242), (830, 230), (833, 217), (833, 204), (834, 191)]\n",
      "The left_eyebrow in this face has the following points: [(747, 176), (750, 170), (757, 167), (765, 168), (772, 171)]\n",
      "The right_eyebrow in this face has the following points: [(785, 171), (795, 169), (804, 169), (813, 173), (819, 179)]\n",
      "The nose_bridge in this face has the following points: [(778, 182), (777, 189), (776, 195), (775, 203)]\n",
      "The nose_tip in this face has the following points: [(764, 209), (770, 211), (776, 213), (783, 211), (789, 210)]\n",
      "The left_eye in this face has the following points: [(753, 183), (758, 180), (764, 180), (769, 184), (764, 185), (758, 185)]\n",
      "The right_eye in this face has the following points: [(792, 185), (798, 181), (804, 181), (809, 185), (804, 187), (798, 187)]\n",
      "The top_lip in this face has the following points: [(755, 226), (761, 221), (770, 220), (776, 222), (783, 221), (793, 223), (802, 228), (799, 228), (783, 224), (776, 225), (769, 224), (758, 226)]\n",
      "The bottom_lip in this face has the following points: [(802, 228), (793, 238), (783, 242), (775, 242), (769, 241), (761, 236), (755, 226), (758, 226), (769, 235), (776, 236), (783, 236), (799, 228)]\n"
     ]
    }
   ],
   "source": [
    "# Load the jpg file into a numpy array\n",
    "image = face_recognition.load_image_file(\"./data/people.jpg\")\n",
    "\n",
    "# Find all facial features in all the faces in the image\n",
    "face_landmarks_list = face_recognition.face_landmarks(image)\n",
    "\n",
    "number_of_faces = len(face_landmarks_list)\n",
    "print(\"I found {} face(s) in this photograph.\".format(number_of_faces))\n",
    "\n",
    "# Load the image into a Python Image Library object so that we can draw on top of it and display it\n",
    "pil_image = PIL.Image.fromarray(image)\n",
    "\n",
    "# Create a PIL drawing object to be able to draw lines later\n",
    "draw = PIL.ImageDraw.Draw(pil_image)\n",
    "\n",
    "# Loop over each face\n",
    "for face_landmarks in face_landmarks_list:\n",
    "\n",
    "    # Loop over each facial feature (eye, nose, mouth, lips, etc)\n",
    "    for name, list_of_points in face_landmarks.items():\n",
    "\n",
    "        # Print the location of each facial feature in this image\n",
    "        print(\"The {} in this face has the following points: {}\".format(name, list_of_points))\n",
    "\n",
    "        # Let's trace out each facial feature in the image with a line!\n",
    "        draw.line(list_of_points, fill=\"red\", width=2)\n",
    "\n",
    "pil_image.show()"
   ]
  },
  {
   "cell_type": "markdown",
   "metadata": {},
   "source": [
    "## Face Encoding"
   ]
  },
  {
   "cell_type": "code",
   "execution_count": 6,
   "metadata": {},
   "outputs": [
    {
     "name": "stdout",
     "output_type": "stream",
     "text": [
      "[-0.20855857  0.0184522   0.05200069 -0.01912922 -0.02748844 -0.01855105\n",
      " -0.02725514 -0.01845027  0.19835582 -0.01124557  0.19645654  0.01600678\n",
      " -0.15621801 -0.08862409 -0.00915148  0.11604425 -0.12597206 -0.14229296\n",
      " -0.03572802 -0.03505831  0.03726101  0.03980879 -0.07782649  0.07926043\n",
      " -0.14744234 -0.34706169 -0.10856134 -0.12216789  0.01723717 -0.1165068\n",
      "  0.06511285 -0.03900213 -0.18297052 -0.10930699  0.06847559  0.12637658\n",
      " -0.05037965 -0.09572256  0.13429843 -0.00703448 -0.16005871 -0.0557308\n",
      "  0.08435312  0.27441847  0.1343535   0.08523723  0.00496134 -0.11246429\n",
      "  0.16313249 -0.27373856  0.0840247   0.10128951  0.15344831  0.10832103\n",
      "  0.11609221 -0.09201851  0.07474771  0.25488397 -0.30816701  0.10207559\n",
      "  0.00198597 -0.01495516  0.03411679 -0.02620046  0.21705672  0.14441347\n",
      " -0.11093325 -0.12751682  0.17208117 -0.1618311  -0.04968155  0.1283944\n",
      " -0.03207504 -0.26411188 -0.31615114  0.07128876  0.3626399   0.18028153\n",
      " -0.13117117 -0.01013267 -0.05811108 -0.00737809  0.03560942  0.03457585\n",
      " -0.09948464 -0.06623525 -0.05779978 -0.01711865  0.24389169  0.1251023\n",
      "  0.00310597  0.1694238  -0.01417199 -0.02782676  0.00143107  0.0657446\n",
      " -0.10071303  0.00664653 -0.07640254 -0.06614345  0.03114725  0.03002063\n",
      "  0.07674081  0.13323891 -0.21063031  0.15302029 -0.01548967 -0.0483361\n",
      "  0.00523043 -0.02149031 -0.06463675  0.01915048  0.14195836 -0.29341802\n",
      "  0.22209315  0.12297858  0.04837454  0.15621081  0.00215636  0.00968091\n",
      " -0.03717981 -0.11729012 -0.1749475  -0.01424961  0.05999142 -0.0759042\n",
      "  0.07595521 -0.00694478]\n"
     ]
    }
   ],
   "source": [
    "# Load the jpg files into numpy arrays\n",
    "image = face_recognition.load_image_file(\"./data/person.jpg\")\n",
    "\n",
    "# Generate the face encodings\n",
    "face_encodings = face_recognition.face_encodings(image)\n",
    "\n",
    "if len(face_encodings) == 0:\n",
    "    # No faces found in the image.\n",
    "    print(\"No faces were found.\")\n",
    "\n",
    "else:\n",
    "    # Grab the first face encoding\n",
    "    first_face_encoding = face_encodings[0]\n",
    "\n",
    "    # Print the results\n",
    "    print(first_face_encoding)\n",
    "\n"
   ]
  },
  {
   "cell_type": "markdown",
   "metadata": {},
   "source": [
    "## Face Tuning"
   ]
  },
  {
   "cell_type": "code",
   "execution_count": 7,
   "metadata": {},
   "outputs": [
    {
     "name": "stdout",
     "output_type": "stream",
     "text": [
      "Found Person 2 in the photo!\n"
     ]
    }
   ],
   "source": [
    "# Load the known images\n",
    "image_of_person_1 = face_recognition.load_image_file(\"./data/person_1.jpg\")\n",
    "image_of_person_2 = face_recognition.load_image_file(\"./data/person_2.jpg\")\n",
    "image_of_person_3 = face_recognition.load_image_file(\"./data/person_3.jpg\")\n",
    "\n",
    "# Get the face encoding of each person. This can fail if no one is found in the photo.\n",
    "person_1_face_encoding = face_recognition.face_encodings(image_of_person_1)[0]\n",
    "person_2_face_encoding = face_recognition.face_encodings(image_of_person_2)[0]\n",
    "person_3_face_encoding = face_recognition.face_encodings(image_of_person_3)[0]\n",
    "\n",
    "# Create a list of all known face encodings\n",
    "known_face_encodings = [\n",
    "    person_1_face_encoding,\n",
    "    person_2_face_encoding,\n",
    "    person_3_face_encoding\n",
    "]\n",
    "\n",
    "# Load the image we want to check\n",
    "unknown_image = face_recognition.load_image_file(\"./data/unknown_7.jpg\")\n",
    "\n",
    "# Get face encodings for any people in the picture\n",
    "face_locations = face_recognition.face_locations(unknown_image, number_of_times_to_upsample=2)\n",
    "unknown_face_encodings = face_recognition.face_encodings(unknown_image, known_face_locations=face_locations)\n",
    "\n",
    "# There might be more than one person in the photo, so we need to loop over each face we found\n",
    "for unknown_face_encoding in unknown_face_encodings:\n",
    "\n",
    "    # Test if this unknown face encoding matches any of the three people we know\n",
    "    results = face_recognition.compare_faces(known_face_encodings, unknown_face_encoding, tolerance=0.6)\n",
    "\n",
    "    name = \"Unknown\"\n",
    "\n",
    "    if results[0]:\n",
    "        name = \"Person 1\"\n",
    "    elif results[1]:\n",
    "        name = \"Person 2\"\n",
    "    elif results[2]:\n",
    "        name = \"Person 3\"\n",
    "\n",
    "    print(f\"Found {name} in the photo!\")\n",
    "\n"
   ]
  },
  {
   "cell_type": "markdown",
   "metadata": {},
   "source": [
    "## Face Recognition System"
   ]
  },
  {
   "cell_type": "code",
   "execution_count": 8,
   "metadata": {},
   "outputs": [
    {
     "name": "stdout",
     "output_type": "stream",
     "text": [
      "Found Person 3 in the photo!\n"
     ]
    }
   ],
   "source": [
    "# Load the known images\n",
    "image_of_person_1 = face_recognition.load_image_file(\"./data/person_1.jpg\")\n",
    "image_of_person_2 = face_recognition.load_image_file(\"./data/person_2.jpg\")\n",
    "image_of_person_3 = face_recognition.load_image_file(\"./data/person_3.jpg\")\n",
    "\n",
    "# Get the face encoding of each person. This can fail if no one is found in the photo.\n",
    "person_1_face_encoding = face_recognition.face_encodings(image_of_person_1)[0]\n",
    "person_2_face_encoding = face_recognition.face_encodings(image_of_person_2)[0]\n",
    "person_3_face_encoding = face_recognition.face_encodings(image_of_person_3)[0]\n",
    "\n",
    "# Create a list of all known face encodings\n",
    "known_face_encodings = [\n",
    "    person_1_face_encoding,\n",
    "    person_2_face_encoding,\n",
    "    person_3_face_encoding\n",
    "]\n",
    "\n",
    "# Load the image we want to check\n",
    "unknown_image = face_recognition.load_image_file(\"./data/unknown_8.jpg\")\n",
    "\n",
    "# Get face encodings for any people in the picture\n",
    "unknown_face_encodings = face_recognition.face_encodings(unknown_image)\n",
    "\n",
    "# There might be more than one person in the photo, so we need to loop over each face we found\n",
    "for unknown_face_encoding in unknown_face_encodings:\n",
    "\n",
    "    # Test if this unknown face encoding matches any of the three people we know\n",
    "    results = face_recognition.compare_faces(known_face_encodings, unknown_face_encoding, tolerance=0.6)\n",
    "\n",
    "    name = \"Unknown\"\n",
    "\n",
    "    if results[0]:\n",
    "        name = \"Person 1\"\n",
    "    elif results[1]:\n",
    "        name = \"Person 2\"\n",
    "    elif results[2]:\n",
    "        name = \"Person 3\"\n",
    "\n",
    "    print(f\"Found {name} in the photo!\")\n",
    "\n"
   ]
  },
  {
   "cell_type": "markdown",
   "metadata": {},
   "source": [
    "## Face Similarity"
   ]
  },
  {
   "cell_type": "code",
   "execution_count": 13,
   "metadata": {},
   "outputs": [],
   "source": [
    "import face_recognition\n",
    "from pathlib import Path\n",
    "from PIL import Image\n",
    "\n",
    "\n",
    "# Load the image of the person we want to find similar people for\n",
    "known_image = face_recognition.load_image_file(\"./data/test_face.jpg\")\n",
    "\n",
    "# Encode the known image\n",
    "known_image_encoding = face_recognition.face_encodings(known_image)[0]\n",
    "\n",
    "# Variables to keep track of the most similar face match we've found\n",
    "best_face_distance = 1.0\n",
    "best_face_image = None\n",
    "\n",
    "# Loop over all the images we want to check for similar people\n",
    "for image_path in Path(\"./data/people\").glob(\"*.png\"):\n",
    "    # Load an image to check\n",
    "    unknown_image = face_recognition.load_image_file(image_path)\n",
    "\n",
    "    # Get the location of faces and face encodings for the current image\n",
    "    face_encodings = face_recognition.face_encodings(unknown_image)\n",
    "\n",
    "    # Get the face distance between the known person and all the faces in this image\n",
    "    face_distance = face_recognition.face_distance(face_encodings, known_image_encoding)[0]\n",
    "\n",
    "    # If this face is more similar to our known image than we've seen so far, save it\n",
    "    if face_distance < best_face_distance:\n",
    "        # Save the new best face distance\n",
    "        best_face_distance = face_distance\n",
    "        # Extract a copy of the actual face image itself so we can display it\n",
    "        best_face_image = unknown_image\n",
    "\n",
    "# Display the face image that we found to be the best match!\n",
    "pil_image = Image.fromarray(best_face_image)\n",
    "pil_image.show()\n",
    "\n"
   ]
  },
  {
   "cell_type": "markdown",
   "metadata": {},
   "source": [
    "## Digital Makeup"
   ]
  },
  {
   "cell_type": "code",
   "execution_count": 14,
   "metadata": {},
   "outputs": [],
   "source": [
    "from PIL import Image, ImageDraw\n",
    "import face_recognition\n",
    "\n",
    "# Load the jpg file into a numpy array\n",
    "image = face_recognition.load_image_file(\"./data/people.jpg\")\n",
    "\n",
    "# Find all facial features in all the faces in the image\n",
    "face_landmarks_list = face_recognition.face_landmarks(image)\n",
    "\n",
    "# Load the image into a Python Image Library object so that we can draw on top of it and display it\n",
    "pil_image = Image.fromarray(image)\n",
    "\n",
    "# Create a PIL drawing object to be able to draw lines later\n",
    "d = ImageDraw.Draw(pil_image, 'RGBA')\n",
    "\n",
    "for face_landmarks in face_landmarks_list:\n",
    "    # The face landmark detection model returns these features:\n",
    "    #  - chin, left_eyebrow, right_eyebrow, nose_bridge, nose_tip, left_eye, right_eye, top_lip, bottom_lip\n",
    "\n",
    "    # Draw a line over the eyebrows\n",
    "    d.line(face_landmarks['left_eyebrow'], fill=(128, 0, 128, 100), width=3)\n",
    "    d.line(face_landmarks['right_eyebrow'], fill=(128, 0, 128, 100), width=3)\n",
    "\n",
    "    # Draw over the lips\n",
    "    d.polygon(face_landmarks['top_lip'], fill=(128, 0, 128, 100))\n",
    "    d.polygon(face_landmarks['bottom_lip'], fill=(128, 0, 128, 100))\n",
    "\n",
    "# Show the final image\n",
    "pil_image.show()\n",
    "\n"
   ]
  },
  {
   "cell_type": "code",
   "execution_count": null,
   "metadata": {},
   "outputs": [],
   "source": []
  }
 ],
 "metadata": {
  "kernelspec": {
   "display_name": "Python 3",
   "language": "python",
   "name": "python3"
  },
  "language_info": {
   "codemirror_mode": {
    "name": "ipython",
    "version": 3
   },
   "file_extension": ".py",
   "mimetype": "text/x-python",
   "name": "python",
   "nbconvert_exporter": "python",
   "pygments_lexer": "ipython3",
   "version": "3.7.6"
  }
 },
 "nbformat": 4,
 "nbformat_minor": 4
}
